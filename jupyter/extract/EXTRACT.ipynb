{
 "cells": [
  {
   "cell_type": "code",
   "execution_count": 27,
   "metadata": {},
   "outputs": [],
   "source": [
    "from read_file import *"
   ]
  },
  {
   "cell_type": "code",
   "execution_count": 16,
   "metadata": {},
   "outputs": [],
   "source": [
    "dict = {\n",
    "    'gate_longitude': gate_longitude,\n",
    "    'gate_latitude': gate_latitude,\n",
    "    'gate_altitude': gate_altitude,\n",
    "    'reflectivity_data': reflectivity_data,\n",
    "    'total_power_data': total_power_data,\n",
    "    'velocity_data': velocity_data,\n",
    "    'spectrum_width_data': spectrum_width_data,\n",
    "    'time': time\n",
    "}\n",
    "\n"
   ]
  },
  {
   "cell_type": "markdown",
   "metadata": {},
   "source": []
  },
  {
   "cell_type": "markdown",
   "metadata": {},
   "source": [
    "Field: gate_longitude"
   ]
  },
  {
   "cell_type": "code",
   "execution_count": 63,
   "metadata": {},
   "outputs": [],
   "source": [
    "\n",
    "\n",
    "with open('/Users/luanluan/Documents/Data/dw_airflow/data_info_txt/NHB200701001009.RAWXPS9.txt', 'w') as f:\n",
    "    # Call the info() method and specify the file object to write to\n",
    "    radar.info('f',out=f)"
   ]
  }
 ],
 "metadata": {
  "kernelspec": {
   "display_name": "pyart_env",
   "language": "python",
   "name": "python3"
  },
  "language_info": {
   "codemirror_mode": {
    "name": "ipython",
    "version": 3
   },
   "file_extension": ".py",
   "mimetype": "text/x-python",
   "name": "python",
   "nbconvert_exporter": "python",
   "pygments_lexer": "ipython3",
   "version": "3.9.19"
  }
 },
 "nbformat": 4,
 "nbformat_minor": 2
}
