{
 "cells": [
  {
   "cell_type": "code",
   "execution_count": 8,
   "metadata": {},
   "outputs": [],
   "source": [
    "import pyart\n",
    "# Đọc dữ liệu từ tệp radar\n",
    "radar = pyart.io.read_sigmet('../python/NHB230601000008.rawlgzv')\n",
    "\n",
    "# Trích xuất thông tin về vị trí và chiếu\n",
    "gate_longitude = radar.gate_latitude['data']\n",
    "gate_latitude = radar.gate_longitude['data']\n",
    "gate_altitude = radar.gate_altitude['data']\n",
    "reflectivity_data = radar.fields['reflectivity']['data']\n",
    "total_power_data = radar.fields['total_power']['data']\n",
    "velocity_data = radar.fields['velocity']['data']\n",
    "spectrum_width_data = radar.fields['spectrum_width']['data']\n",
    "time = radar.time['data']\n",
    "\n",
    "dict = {\n",
    "    'gate_longitude': gate_longitude,\n",
    "    'gate_latitude': gate_latitude,\n",
    "    'gate_altitude': gate_altitude,\n",
    "    'reflectivity_data': reflectivity_data,\n",
    "    'total_power_data': total_power_data,\n",
    "    'velocity_data': velocity_data,\n",
    "    'spectrum_width_data': spectrum_width_data,\n",
    "    'time': time\n",
    "}\n",
    "\n",
    "def printInfo(data):\n",
    "    print('First dimension', len(data))\n",
    "    if(len(data[0])):\n",
    "        print('Second dimension', len(data[0]))\n",
    "    return 0"
   ]
  },
  {
   "cell_type": "code",
   "execution_count": 9,
   "metadata": {},
   "outputs": [
    {
     "name": "stdout",
     "output_type": "stream",
     "text": [
      "*********** gate_longitude ***********\n",
      "First dimension 1389\n",
      "Second dimension 500\n",
      "*********** gate_longitude ***********\n",
      "*********** gate_latitude ***********\n",
      "First dimension 1389\n",
      "Second dimension 500\n",
      "*********** gate_latitude ***********\n",
      "*********** gate_altitude ***********\n",
      "First dimension 1389\n",
      "Second dimension 500\n",
      "*********** gate_altitude ***********\n",
      "*********** reflectivity_data ***********\n",
      "First dimension 1389\n",
      "Second dimension 500\n",
      "*********** reflectivity_data ***********\n",
      "*********** total_power_data ***********\n",
      "First dimension 1389\n",
      "Second dimension 500\n",
      "*********** total_power_data ***********\n",
      "*********** velocity_data ***********\n",
      "First dimension 1389\n",
      "Second dimension 500\n",
      "*********** velocity_data ***********\n",
      "*********** spectrum_width_data ***********\n",
      "First dimension 1389\n",
      "Second dimension 500\n",
      "*********** spectrum_width_data ***********\n",
      "*********** time ***********\n",
      "First dimension 1389\n"
     ]
    },
    {
     "ename": "TypeError",
     "evalue": "object of type 'numpy.float64' has no len()",
     "output_type": "error",
     "traceback": [
      "\u001b[0;31m---------------------------------------------------------------------------\u001b[0m",
      "\u001b[0;31mTypeError\u001b[0m                                 Traceback (most recent call last)",
      "Cell \u001b[0;32mIn[9], line 3\u001b[0m\n\u001b[1;32m      1\u001b[0m \u001b[38;5;28;01mfor\u001b[39;00m item \u001b[38;5;129;01min\u001b[39;00m \u001b[38;5;28mdict\u001b[39m:\n\u001b[1;32m      2\u001b[0m     \u001b[38;5;28mprint\u001b[39m(\u001b[38;5;124m'\u001b[39m\u001b[38;5;124m***********\u001b[39m\u001b[38;5;124m'\u001b[39m, item, \u001b[38;5;124m'\u001b[39m\u001b[38;5;124m***********\u001b[39m\u001b[38;5;124m'\u001b[39m)\n\u001b[0;32m----> 3\u001b[0m     \u001b[43mprintInfo\u001b[49m\u001b[43m(\u001b[49m\u001b[38;5;28;43mdict\u001b[39;49m\u001b[43m[\u001b[49m\u001b[43mitem\u001b[49m\u001b[43m]\u001b[49m\u001b[43m)\u001b[49m\n\u001b[1;32m      4\u001b[0m     \u001b[38;5;28mprint\u001b[39m(\u001b[38;5;124m'\u001b[39m\u001b[38;5;124m***********\u001b[39m\u001b[38;5;124m'\u001b[39m, item, \u001b[38;5;124m'\u001b[39m\u001b[38;5;124m***********\u001b[39m\u001b[38;5;124m'\u001b[39m)\n",
      "Cell \u001b[0;32mIn[8], line 28\u001b[0m, in \u001b[0;36mprintInfo\u001b[0;34m(data)\u001b[0m\n\u001b[1;32m     26\u001b[0m \u001b[38;5;28;01mdef\u001b[39;00m \u001b[38;5;21mprintInfo\u001b[39m(data):\n\u001b[1;32m     27\u001b[0m     \u001b[38;5;28mprint\u001b[39m(\u001b[38;5;124m'\u001b[39m\u001b[38;5;124mFirst dimension\u001b[39m\u001b[38;5;124m'\u001b[39m, \u001b[38;5;28mlen\u001b[39m(data))\n\u001b[0;32m---> 28\u001b[0m     \u001b[38;5;28;01mif\u001b[39;00m(\u001b[38;5;28;43mlen\u001b[39;49m\u001b[43m(\u001b[49m\u001b[43mdata\u001b[49m\u001b[43m[\u001b[49m\u001b[38;5;241;43m0\u001b[39;49m\u001b[43m]\u001b[49m\u001b[43m)\u001b[49m):\n\u001b[1;32m     29\u001b[0m         \u001b[38;5;28mprint\u001b[39m(\u001b[38;5;124m'\u001b[39m\u001b[38;5;124mSecond dimension\u001b[39m\u001b[38;5;124m'\u001b[39m, \u001b[38;5;28mlen\u001b[39m(data[\u001b[38;5;241m0\u001b[39m]))\n\u001b[1;32m     30\u001b[0m     \u001b[38;5;28;01mreturn\u001b[39;00m \u001b[38;5;241m0\u001b[39m\n",
      "\u001b[0;31mTypeError\u001b[0m: object of type 'numpy.float64' has no len()"
     ]
    }
   ],
   "source": [
    "for item in dict:\n",
    "    print('***********', item, '***********')\n",
    "    printInfo(dict[item])\n",
    "    print('***********', item, '***********')\n"
   ]
  },
  {
   "cell_type": "markdown",
   "metadata": {},
   "source": []
  },
  {
   "cell_type": "code",
   "execution_count": null,
   "metadata": {},
   "outputs": [],
   "source": [
    "print(len(gate_longitude)) #1389\n",
    "\n",
    "print(len(gate_longitude[0])) #500"
   ]
  }
 ],
 "metadata": {
  "kernelspec": {
   "display_name": "pyart_env",
   "language": "python",
   "name": "python3"
  },
  "language_info": {
   "codemirror_mode": {
    "name": "ipython",
    "version": 3
   },
   "file_extension": ".py",
   "mimetype": "text/x-python",
   "name": "python",
   "nbconvert_exporter": "python",
   "pygments_lexer": "ipython3",
   "version": "3.9.19"
  }
 },
 "nbformat": 4,
 "nbformat_minor": 2
}
